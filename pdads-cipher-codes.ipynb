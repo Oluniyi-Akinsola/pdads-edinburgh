{
 "cells": [
  {
   "cell_type": "code",
   "execution_count": null,
   "metadata": {},
   "outputs": [],
   "source": [
    "# Two variables key and values representng inputs into the \n",
    "# program are hardcoded.\n",
    "# Create letters list\n",
    "letters = ['a', 'b', 'c', 'd', 'e', 'f', 'g', 'h', 'i', 'j', 'k', 'l', 'm',\n",
    "           'n', 'o', 'p', 'q', 'r', 's', 't', 'u', 'v', 'w', 'x', 'y', 'z']\n",
    "\n",
    "# Define key and value\n",
    "key = 3\n",
    "value = 'helloworld'\n",
    "\n",
    "# A for loop gets the index of the value and increments it by the key, modulus 26.\n",
    "# Loop over value and find new index in list based on key,\n",
    "# then prints out the value at the new index in the list.\n",
    "for str in value:\n",
    "    index = letters.index(str)\n",
    "    index += key\n",
    "    index %= 26\n",
    "    print(letters[index])"
   ]
  }
 ],
 "metadata": {
  "kernelspec": {
   "display_name": "base",
   "language": "python",
   "name": "python3"
  },
  "language_info": {
   "name": "python",
   "version": "3.9.7"
  },
  "orig_nbformat": 4,
  "vscode": {
   "interpreter": {
    "hash": "40d3a090f54c6569ab1632332b64b2c03c39dcf918b08424e98f38b5ae0af88f"
   }
  }
 },
 "nbformat": 4,
 "nbformat_minor": 2
}
